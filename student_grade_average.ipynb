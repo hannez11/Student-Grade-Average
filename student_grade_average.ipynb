{
 "cells": [
  {
   "cell_type": "code",
   "execution_count": null,
   "metadata": {},
   "outputs": [],
   "source": [
    "# remove hashtag (comments) in line 2 and 3 when executing for the first time, to install the necessary packages\n",
    "# https://code.visualstudio.com/docs/python/python-tutorial\n",
    "# 1 https://www.python.org/downloads/\n",
    "# 2 https://code.visualstudio.com/download\n",
    "# 3 install python extension in vscode\n",
    "\n",
    "# !pip install pandas\n",
    "# !pip install numpy"
   ]
  },
  {
   "cell_type": "code",
   "execution_count": 13,
   "metadata": {},
   "outputs": [],
   "source": [
    "import pandas as pd\n",
    "import numpy as np\n",
    "\n",
    "from pathlib import Path\n",
    "import time\n",
    "\n",
    "import re\n",
    "import os"
   ]
  },
  {
   "cell_type": "markdown",
   "metadata": {},
   "source": [
    "### define function to clean file names"
   ]
  },
  {
   "cell_type": "code",
   "execution_count": 14,
   "metadata": {},
   "outputs": [],
   "source": [
    "coursename_semester = np.nan #global variable that can be used outside the function\n",
    "\n",
    "def get_course_name(input_file):\n",
    "    global coursename_semester #otherwise function will not overwrite\n",
    "    \n",
    "    filename = input_file.split(\".csv\")[0] # remove \"\".csv\"\n",
    "\n",
    "    # assign BSc / MSc\n",
    "    if \"BSc\" in filename:\n",
    "        bachelor_or_master = \"BSc\"\n",
    "    else:\n",
    "        bachelor_or_master = \"MSc\"\n",
    "\n",
    "    # remove the irrelevant info before the course name\n",
    "    # https://regex101.com/r/uEiYb2/1\n",
    "    # https://www.debuggex.com/cheatsheet/regex/python\n",
    "    coursename_semester = re.split(\n",
    "        \"(^.*(BSc|MSc)_(.._)?(._|.\\d_\\d_)?)\", \n",
    "        filename)[-1]\n",
    "\n",
    "    # assign nachtermin (based on \"(digit)\" in filename). doesnt work if multiple files with (digit) in filename\n",
    "    # coursename_semester = re.sub(\" \\(\\d\\)\", \" NT\", coursename_semester)\n",
    "\n",
    "    # remove the WS/SS infor\n",
    "    if \"WS\" in coursename_semester:\n",
    "        coursename_semester = coursename_semester.split(\"_WS\")\n",
    "    elif \"SS\" in coursename_semester:\n",
    "        coursename_semester = coursename_semester.split(\"_SS\")\n",
    "\n",
    "    # add the year after an @\n",
    "    coursename_semester = \"@\".join(coursename_semester) + \";\" + bachelor_or_master\n",
    "\n",
    "    # print(coursename_semester)"
   ]
  },
  {
   "cell_type": "markdown",
   "metadata": {},
   "source": [
    "## create basic df containing all students"
   ]
  },
  {
   "cell_type": "markdown",
   "metadata": {},
   "source": [
    "### loop through all files"
   ]
  },
  {
   "cell_type": "code",
   "execution_count": null,
   "metadata": {},
   "outputs": [],
   "source": [
    "# set folder\n",
    "dir = r\"X:\\BWL IV\\Talentprogramm\\2_Bestenlisten\\Flexnow Listen\\18_22\"\n",
    " \n",
    "# create an empty pandas data frame\n",
    "df_baseline = pd.DataFrame()\n",
    "\n",
    "# iterate over all .csv files within folder\n",
    "for index, file in enumerate(os.listdir(dir)):\n",
    "    if file.endswith(\".csv\"):\n",
    "        df_file = pd.read_csv(os.path.join(dir, file), sep=\";\", decimal=\",\", encoding='unicode_escape')\n",
    "        index_columns = ['Matrnr', 'Nachname', \"Vorname\", \"Email\"]\n",
    "        df_file = df_file[index_columns]\n",
    "        df_baseline = pd.concat([df_baseline , df_file], axis=0)\n",
    "\n",
    "df_baseline.drop_duplicates(keep=\"first\", inplace=True) # drop duplicates\n",
    "df_baseline.reset_index(drop=True, inplace=True) # reset the index \n",
    "\n",
    "df_baseline"
   ]
  },
  {
   "cell_type": "markdown",
   "metadata": {},
   "source": [
    "## merge all grades to baseline df"
   ]
  },
  {
   "cell_type": "code",
   "execution_count": null,
   "metadata": {},
   "outputs": [],
   "source": [
    "# set folder\n",
    "dir = r\"X:\\BWL IV\\Talentprogramm\\2_Bestenlisten\\Flexnow Listen\\18_22\"\n",
    " \n",
    "# create an empty pandas data frame\n",
    "df_complete = pd.DataFrame()\n",
    "\n",
    "# iterate over all .csv files within folder\n",
    "for index, file in enumerate(os.listdir(dir)):\n",
    "    if file.endswith(\".csv\"):\n",
    "\n",
    "        # get clean course name from filename\n",
    "        get_course_name(file)\n",
    "\n",
    "        # load file into df and append filename to \"Note\" and \"Fachsemester\" columns\n",
    "        df_file = pd.read_csv(os.path.join(dir, file), sep=\";\", decimal=\",\", encoding='unicode_escape') #will be overwritten in the next iteration\n",
    "\n",
    "        # remove irrelevant columns\n",
    "        irrelevant_columns = [\"Nachname\", \"Vorname\", \"Email\", 'Bemerkung','Versuch','Notentabelle','Prfdatum','Studienfach','Studienabschnitt','Studienabschnittsversion','Fachgruppe']\n",
    "        df_file.drop(columns=irrelevant_columns, axis=1, inplace=True)\n",
    "        df_file.dropna(how='all', axis=1, inplace=True) # there are some files with empty columns\n",
    "\n",
    "        # set the first 4 columns as index (identifier) columns, which are ignored by add_suffix\n",
    "        index_columns = ['Matrnr']\n",
    "        df_file = df_file.set_index(index_columns)\n",
    "\n",
    "        # add course name from filename to note and fachsemester columns\n",
    "        df_file = df_file.add_suffix(f\",{coursename_semester}\")\n",
    "        df_file = df_file.reset_index()\n",
    "\n",
    "        # merge course file infos with df baseline\n",
    "        df_baseline = df_baseline.merge(df_file, how=\"left\", on=[\"Matrnr\"])\n",
    "print(\"\\ndone\")\n",
    "\n",
    "df_baseline[:5]"
   ]
  },
  {
   "cell_type": "markdown",
   "metadata": {},
   "source": [
    "## create a compact df"
   ]
  },
  {
   "cell_type": "markdown",
   "metadata": {},
   "source": [
    "### grade average"
   ]
  },
  {
   "cell_type": "code",
   "execution_count": null,
   "metadata": {},
   "outputs": [],
   "source": [
    "pd.set_option('mode.chained_assignment',None)\n",
    "\n",
    "# drop columns containing \"Fachsemester\"\n",
    "df_grade = df_baseline[df_baseline.columns.drop(list(df_baseline.filter(regex='Fachsemester')))]\n",
    "# df_grade = df_baseline.filter(regex='|'.join(index_columns+[\"Note\"]), axis=1)\n",
    "\n",
    "# slice df down to grade columns\n",
    "column_loc_after_mail = df_grade.columns.get_loc(\"Email\") + 1 #grades start after Email column\n",
    "df_grade.loc[:, \"total average\"] = df_grade.iloc[:, column_loc_after_mail:].mean(axis=1)\n",
    "df_grade.loc[:, \"received grades\"] = df_grade.iloc[:, column_loc_after_mail:-1].count(axis=1) #ignore the newly inserted column\n",
    "df_grade.loc[:, \"max grade\"] = df_grade.iloc[:, column_loc_after_mail:-2].max(axis=1)\n",
    "df_grade.loc[:, \"min grade\"] = df_grade.iloc[:, column_loc_after_mail:-3].min(axis=1)\n",
    "\n",
    "# drop all Note columns\n",
    "df_grade_overview = df_grade[df_grade.columns.drop(list(df_grade.filter(regex='Note')))]\n",
    "\n",
    "## adjust aggregated course names here ##\n",
    "df_grade_overview.loc[:, \"KoMa\"] = df_grade.filter(regex=\"Kostenmanagement|Instruments\", axis=1).max(axis=1)\n",
    "df_grade_overview.loc[:, \"Anwendungen\"] = df_grade.filter(regex=\"Anwendungen|Systems\", axis=1).max(axis=1)\n",
    "df_grade_overview.loc[:, \"Advanced\"] = df_grade.filter(regex=\"Advanced\", axis=1).max(axis=1)\n",
    "df_grade_overview.loc[:, \"Accounting\"] = df_grade.filter(regex=\"Accounting_W\", axis=1).max(axis=1)\n",
    "df_grade_overview.loc[:, \"Proseminar\"] = df_grade.filter(regex=\"_Proseminar_\", axis=1).max(axis=1)\n",
    "df_grade_overview.loc[:, \"Seminar\"] = df_grade.filter(regex=\"_Seminar_\", axis=1).max(axis=1)\n",
    "\n",
    "df_grade_overview[:5]"
   ]
  },
  {
   "cell_type": "markdown",
   "metadata": {},
   "source": [
    "### get the highest fachsemester and the date of the most recent klausur"
   ]
  },
  {
   "cell_type": "code",
   "execution_count": 18,
   "metadata": {},
   "outputs": [],
   "source": [
    "## bachelor max semester##\n",
    "# drop columns containing \"Fachsemester\"\n",
    "df_bachelor_semester = df_baseline[df_baseline.columns.drop(list(df_baseline.filter(regex='Note|MSc')))]\n",
    "\n",
    "# get max semester\n",
    "df_bachelor_semester.loc[:, \"max semester BSc\"] = df_bachelor_semester.iloc[:, column_loc_after_mail:].max(axis=1) # höchstes fachsemester ist teilweise falsch. entsprechend macht auch das letzte semester teilweise keinen sinn\n",
    "# insert helper column to retrieve most recent semester\n",
    "df_bachelor_semester.loc[:, \"most recent semester BSc\"] = df_bachelor_semester.iloc[:, column_loc_after_mail:].idxmax(axis=1)\n",
    "\n",
    "df_bachelor_semester_relevant = df_bachelor_semester[[\"Matrnr\", \"Nachname\", \"Vorname\", \"Email\", \"max semester BSc\", \"most recent semester BSc\"]]\n",
    "df_bachelor_semester_relevant\n",
    "\n",
    "# retrieve most recent semester\n",
    "df_bachelor_semester_relevant[\"most recent semester BSc\"] = df_bachelor_semester_relevant[\"most recent semester BSc\"].str.extract('(\\d\\d_?\\d?\\d?)') # 19_20\n",
    "df_bachelor_semester_relevant[\"most recent semester BSc\"] = df_bachelor_semester_relevant[\"most recent semester BSc\"].str.replace(r'_\\d\\d', '', regex=True).astype(\"float\") # 19_20 -> 19\n",
    "\n",
    "# df_bachelor_semester_relevant\n",
    "\n",
    "## master max semester ##\n",
    "# drop columns containing \"Fachsemester\"\n",
    "df_master_semester = df_baseline[df_baseline.columns.drop(list(df_baseline.filter(regex='Note|BSc')))]\n",
    "\n",
    "# get max semester\n",
    "df_master_semester.loc[:, \"max semester MSc\"] = df_master_semester.iloc[:, column_loc_after_mail:].max(axis=1)\n",
    "# insert helper column to retrieve most recent semester\n",
    "df_master_semester.loc[:, \"most recent semester MSc\"] = df_master_semester.iloc[:, column_loc_after_mail:].idxmax(axis=1)\n",
    "\n",
    "df_master_semester[\"MasterStudent\"] = np.where(df_master_semester[\"max semester MSc\"].isna() == False, 1, 0)\n",
    "\n",
    "# only grab relevant columns\n",
    "df_master_semester_relevant = df_master_semester[[\"Matrnr\", \"Nachname\", \"Vorname\", \"Email\", \"MasterStudent\", \"max semester MSc\", \"most recent semester MSc\"]]\n",
    "\n",
    "# retrieve most recent semester\n",
    "df_master_semester_relevant[\"most recent semester MSc\"] = df_master_semester_relevant[\"most recent semester MSc\"].str.extract('(\\d\\d_?\\d?\\d?)')\n",
    "df_master_semester_relevant[\"most recent semester MSc\"] = df_master_semester_relevant[\"most recent semester MSc\"].str.replace(r'_\\d\\d', '', regex=True).astype(\"float\") # 19_20 -> 19\n",
    "\n",
    "# df_master_semester_relevant[df_master_semester_relevant[\"MasterStudent\"] == 1]"
   ]
  },
  {
   "cell_type": "markdown",
   "metadata": {},
   "source": [
    "## merge final df"
   ]
  },
  {
   "cell_type": "code",
   "execution_count": null,
   "metadata": {},
   "outputs": [],
   "source": [
    "df_final = df_grade_overview.merge(df_bachelor_semester_relevant, how=\"left\", on=[\"Matrnr\", \"Nachname\", \"Vorname\", \"Email\"])\n",
    "df_final = df_final.merge(df_master_semester_relevant, how=\"left\", on=[\"Matrnr\", \"Nachname\", \"Vorname\", \"Email\"])\n",
    "\n",
    "df_final.sort_values(by=[\"total average\", \"received grades\"], ascending=[False, False], inplace=True)\n",
    "\n",
    "# print(df_final.columns.tolist())\n",
    "df_final = df_final[['Matrnr', 'Nachname', 'Vorname', 'Email', 'MasterStudent', 'max semester BSc', 'most recent semester BSc', 'max semester MSc', 'most recent semester MSc', 'total average', 'received grades', 'max grade', 'min grade', 'KoMa', 'Anwendungen', 'Advanced', 'Accounting', 'Seminar']]\n",
    "\n",
    "df_final.reset_index(drop=True, inplace=True)\n",
    "df_final[:5]"
   ]
  },
  {
   "cell_type": "code",
   "execution_count": 20,
   "metadata": {},
   "outputs": [
    {
     "name": "stdout",
     "output_type": "stream",
     "text": [
      "x:\\BWL IV\\Talentprogramm\\2_Bestenlisten\\0908_StudentGradeAverage_Complete.csv saved\n",
      "x:\\BWL IV\\Talentprogramm\\2_Bestenlisten\\0908_StudentGradeAverage_Compact.csv saved\n"
     ]
    }
   ],
   "source": [
    "## save file with dynamic file name\n",
    "\n",
    "#complete dataframe\n",
    "path_with_time_baseline = Path.joinpath(Path.cwd().parent, f'{time.strftime(\"%m%d\")}_StudentGradeAverage_Complete.csv')\n",
    "df_baseline.to_csv(path_with_time_baseline, sep=\";\", decimal=\",\", index=False)\n",
    "print(f\"{path_with_time_baseline} saved\")\n",
    "\n",
    "#compact dataframe\n",
    "path_with_time_final = Path.joinpath(Path.cwd().parent, f'{time.strftime(\"%m%d\")}_StudentGradeAverage_Compact.csv')\n",
    "df_final.to_csv(path_with_time_final, sep=\";\", decimal=\",\", index=False)\n",
    "print(f\"{path_with_time_final} saved\")"
   ]
  }
 ],
 "metadata": {
  "kernelspec": {
   "display_name": "Python 3.10.4 64-bit",
   "language": "python",
   "name": "python3"
  },
  "language_info": {
   "codemirror_mode": {
    "name": "ipython",
    "version": 3
   },
   "file_extension": ".py",
   "mimetype": "text/x-python",
   "name": "python",
   "nbconvert_exporter": "python",
   "pygments_lexer": "ipython3",
   "version": "3.10.4"
  },
  "orig_nbformat": 4,
  "vscode": {
   "interpreter": {
    "hash": "caae7e249fc351f228f30c0ea597686a1b1aad5e394e945128343f5494793c6e"
   }
  }
 },
 "nbformat": 4,
 "nbformat_minor": 2
}
